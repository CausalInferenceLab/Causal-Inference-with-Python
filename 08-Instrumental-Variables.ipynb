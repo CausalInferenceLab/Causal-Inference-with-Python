{
 "cells": [
  {
   "cell_type": "markdown",
   "id": "87cc4a91",
   "metadata": {},
   "source": [
    "# 08-Instrumental Variables (도구변수)\n",
    "## Going Around Omitted Variable Bias\n",
    "\n",
    "\n",
    "OVB(Omitted Variable Bias)를 다루는 한 가지 방법은 바로 생략된 변수를 우리의 모델에 추가하는 것입니다. 안타깝게도 생략된 변수에 대한 데이터가 항상 존재하는 것은 아니기 때문에 언제나 가능한 것은 아니죠. 예를 들어, 교육이 임금에 미치는 영향에 대한 모델을 살펴볼까요?\n",
    "\n",
    "\n",
    "$log(hwage)_i = \\beta_0 + \\kappa \\ educ_i + \\pmb{\\beta}Ability_i + u_i$\n",
    "\n",
    "교육($\\kappa$)이 임금($log(hwage)$)에 미치는 인과적 영향을 파악하기 위해선 역량($Ability_i$) 요인을 통제할 필요가 있습니다. 이 요인을 통제하지 않는다면 우리는 아마 작아보일수도 있지만 절대 작지 않은 편향(bias)을 가지게 될 것이고, 결국 역량 변수로 인한 편향은 교란 요인(confounder)이 되어 우리가 가하는 처치라 할 수 있는 교육 변수와 그리고 결과 변수인 수입에도 모두 영향을 주게 될 것입니다."
   ]
  },
  {
   "cell_type": "code",
   "execution_count": null,
   "id": "33167b42",
   "metadata": {},
   "outputs": [],
   "source": [
    "import warnings\n",
    "warnings.filterwarnings('ignore')\n",
    "\n",
    "import pandas as pd\n",
    "import numpy as np\n",
    "from scipy import stats\n",
    "from matplotlib import style\n",
    "import seaborn as sns\n",
    "from matplotlib import pyplot as plt\n",
    "import statsmodels.formula.api as smf\n",
    "import graphviz as gr\n",
    "from linearmodels.iv import IV2SLS\n",
    "\n",
    "%matplotlib inline\n",
    "\n",
    "pd.set_option(\"display.max_columns\", 5)\n",
    "style.use(\"fivethirtyeight\")"
   ]
  },
  {
   "cell_type": "code",
   "execution_count": null,
   "id": "813296cf",
   "metadata": {},
   "outputs": [],
   "source": [
    "g = gr.Digraph()\n",
    "\n",
    "g.edge(\"ability\", \"educ\")\n",
    "g.edge(\"ability\", \"wage\")\n",
    "g.edge(\"educ\", \"wage\")\n",
    "g"
   ]
  },
  {
   "cell_type": "markdown",
   "id": "59abb7ed",
   "metadata": {},
   "source": [
    "위와 같은 상황을 피할 수 있는 한 가지 방법은 교육이 임금에 주는 영향을 측정할 때 일정한 수준의 역량 변수를 통제하는 것입니다. 선형 회귀 모델에 역량 변수를 포함함으로써 통제할 수도 있겠죠? 하지만 문제는 우리에게 '역량'을 측정할만한 좋은 척도가 없다는 것입니다. 우리가 고려할 수 있는 그나마 좋은 척도는 IQ가 될 수 있겠네요.\n",
    "\n",
    "그러나 아직 절망할 때는 아닙니다. 여기서 우리는 바로 도구변수(Instrumental Variables)를 활용할 수 있습니다! 도구변수의 아이디어는 처치(T) 변수를 유발하는 다른 변수를 찾는 것에서부터 시작되며, 도구변수는 처치를 통한 결과(Y)와만 상관 관계가 있어야 합니다. 다르게 말하자면, 도구변수($Z_i$)는 $Y_0$와는 상관 관계가 성립하지 않으면서 $T$와의 상관 관계는 성립해야 합니다. 이것을 Exclusion Restriction(제외 제한)이라고 하곤 하죠."
   ]
  },
  {
   "cell_type": "code",
   "execution_count": null,
   "id": "67d6f17a",
   "metadata": {},
   "outputs": [],
   "source": [
    "g = gr.Digraph()\n",
    "\n",
    "g.edge(\"ability\", \"educ\")\n",
    "g.edge(\"ability\", \"wage\")\n",
    "g.edge(\"educ\", \"wage\")\n",
    "g.edge(\"instrument\", \"educ\")\n",
    "g"
   ]
  },
  {
   "cell_type": "markdown",
   "id": "20b35d6a",
   "metadata": {},
   "source": [
    "만약 우리가 이러한 도구변수(IV)가 있다면, 아래의 도구변수(IV) 식에 따라 인과 효과($\\kappa$)를 밝혀낼 수 있겠죠? 일단은 가장 이상적인 식에 대해 생각해봅시다. 이제부터 처치를 $T$라 하고, 교란 변수를 $W$라 하겠습니다.\n",
    "\n",
    "\n",
    "$Y_i = \\beta_0 + \\kappa \\ T_i + \\pmb{\\beta}W_i + u_i$\n",
    "\n",
    "\n",
    "그러나 우리는 $W$에 대한 데이터가 없으므로 우리가 할 수 있는 것은...\n",
    "\n",
    "\n",
    "$Y_i = \\beta_0 + \\kappa\\ T_i + v_i$\n",
    "$v_i = \\pmb{\\beta}W_i + u_i$\n",
    "\n",
    "\n",
    "$W$가 교란변수기 때문에, $Cov(T, v) \\neq 0$가 성립되겠죠? 우리는 그다지 길지 않은 식을 가지고 있어요. 그리고 우리의 예시에서 이건 바로 능력과 교육이 연관성이 있다는 것을 의미합니다. 이런 경우에 우리가 만약 짧은 회귀 분석을 진행한다면, 생략된 변수들로 인해 편향된 추정치($\\kappa$)가 산출될 것입니다.\n",
    "\n",
    "\n",
    "자! 이제 도구변수(IV)의 마법을 볼 시간이에요. 도구변수 $Z$가 처치 $T$를 통해서만 결과 변수와 상관성이 있기 때문에, $Cov(Z,v) = 0$ 식이 성립될 것입니다. 만약 그렇지 않다면 $W$를 거쳐 $Z$에서 $Y$로 가는 또다른 경로가 있겠죠? 이를 잘 명심하세요! 우리는 바로 아래와 같은 수식을 얻을 수 있으니까요!\n",
    "\n",
    "\n",
    "$Cov(Z,Y) = Cov(Z,\\beta_0 + \\kappa\\ T_i + v_i) = \\kappa Cov(Z,T) + Cov(Z, v) = \\kappa Cov(Z,T)$\n",
    "\n",
    "\n",
    "양 쪽을 $V(Z_i)$로 나누고 식을 정리해보면,\n",
    "\n",
    "\n",
    "$\\kappa = \\dfrac{Cov(Y_i, Z_i)/V(Z_i)}{Cov(T_i, Z_i)/V(Z_i)} = \\dfrac{\\text{Reduced Form}}{\\text{1st Stage}}$\n",
    "\n",
    "\n",
    "분자와 분모는 모두 회귀계수(Regression Coefficients; 공분산을 분산으로 나눈 값)입니다. 분자는 $Z$에 대한 $Y$의 회귀 분석 결과죠. 다시 말해, $Y$에 대한 $Z$의 \"영향\"이라고 할 수 있습니다. 우리는 $Z$가 $T$를 통해서만 $Y$에 영향을 줄 수 있다는 것을 알고 있기 때문에, $Z$가 $Y$의 원인이 아니라는 것을 파악할 수 있죠. 오히려 $Z$가 $T$를 통해 $Y$에 미치는 효과가 얼마나 큰 지를 포착할 수 있게끔 해주죠. 이 분자는 너무 유명해서 The reduced form coefficient 라는 이름 또한 가지고 있죠.\n",
    "\n",
    "분모 또한 회귀계수(Regression Coefficient)입니다. 이번에는 $Z$에 대한 $T$의 회귀식이죠. 이 회귀식은 $T$에 대한 $Z$의 영향을 알 수 있게끔 해주죠. 이 분모도 너무 유명해서 1st Stage Coefficient라는 이름을 가지고 있습니다.\n",
    "\n",
    "이 식을 더 멋지게 봐보도록 할까요? 바로 부분 도함수(Partial derivatives)의 측면에서요! $T$에 대한 $Z$를 조정함으로써 우리는 $Y$에 대한 $T$의 영향과 $Y$에 대한 $Z$의 영향이 같다는 것을 알 수 있어요.\n",
    "\n",
    "\n",
    "$\\kappa = \\dfrac{\\frac{\\partial y}{\\partial z}}{\\frac{\\partial T}{\\partial z}} = \\dfrac{\\partial y}{\\partial z} * \\dfrac{\\partial z}{\\partial T} =  \\dfrac{\\partial y}{\\partial T}$\n",
    "\n",
    "\n",
    "이것이 우리에게 시사하는 바는 대다수의 사람들이 평가하는 것보다 조금 더 미묘합니다. 더 멋지죠! 우리가 도구변수(IV)를 이렇게 활용함으로써 우리는 이렇게 말할 수 있습니다.\n",
    "\"교란 변수때문에 Y에 대한 T의 영향도를 측정하기는 어려워.. 근데 말이야 나는 Y에 대한 Z의 영향도는 쉽게 찾을 수 있어! 어떻게 하나고? Z와 Y를 유발하는 것은 아무 것도 없기 때문이지!(Exclusion Restriction) 그런데 사실 나는 Y에 대한 T의 영향도가 궁금한거지 Y에 대한 Z의 영향도가 궁금한게 아니란 말이지... 그래서 나는 방법을 하나 찾았어. Z 대신 T에 대한 효과로 변환하기 위해 T에 대한 Z의 효과를 조정(Scale)함으로써 Y에 대한 Z의 효과를 측정할 거야!\"\n",
    "\n",
    "또한 도구변수가 더미가 된 심플한 상황에서도 이를 확인할 수 있습니다. 이러한 경우에는 도구변수는 평균의 두 차이 사이의 비율에 의해 더욱 단순화됩니다.\n",
    "\n",
    "\n",
    "$\\kappa = \\dfrac{E[Y|Z=1]-E[Y|Z=0]}{E[T|Z=1]-E[T|Z=0]}$\n",
    "\n",
    "\n",
    "이 비율은 **Wald Estimator**라고도 명명됩니다. \n",
    "### ((마지막 진행 예정))"
   ]
  },
  {
   "cell_type": "markdown",
   "id": "240e8a3f",
   "metadata": {},
   "source": [
    "## Quarter of Birth and the Effect of Education on Wage\n",
    "\n",
    "지금까지, 우리는 이 도구변수들을 처치를 통해서만 결과에 영향을 미치는 기적적인 타당성을 가진 마법의 변수로 취급해 왔습니다. 솔직히 말해보자면, 좋은 도구변수는 구하기가 매우 어렵습니다. 좋은 도구변수를 구했을 때 우리가 기적이 일어났다고 생각하는 것도 과언은 아니죠. 소문에 의하면 시카고 경제 대학의 멋진 학생들은 주변 바에서 어떻게 엄청난 도구변수를 만들 수 있을지에 대해 이야기한다고 합니다.\n",
    "\n",
    "![good-iv](./data/img/iv/good-iv.png)\n",
    "\n",
    "하지만 여전히, 우리는 우리의 가설을 좀 더 구체적으로 만들기 위한 몇 가지 흥미로운 도구변수를 가지고 있습니다. 우리는 교육이 임금에 미치는 영향을 다시 한번 추정해볼건데요. 이를 위해, 우리는 그 사람의 출생 4분기를 도구변수 $Z$로 사용할 것입니다.\n",
    "\n",
    "이 아이디어는 미국의 의무 출석법을 활용한 것인데요. 이 법은 아이들이 학교에 입학하는 해의 1월 1일까지 6살이 되어야 한다고 명명되어 있습니다. 이러한 이유로, 연초에 태어난 아이들은 더 많은 나이에 학교에 입학하게 되는데요. 의무 출석법은 또한 학생들이 16살이 될 때까지 학교에 있어야 하며, 그 시점에서 그들은 법적으로 중퇴가 허용된다는 내용도 있습니다. 결과적으로 그 해에 늦게 태어난 사람들은 평균적으로 연초에 태어난 사람들보다 더 많은 교육을 받게 되는 것이죠.\n",
    "\n",
    "![qob](./data/img/iv/qob.png)\n",
    "\n",
    "출생 분기가 능력 요소와는 무관하여 교육이 임금에 미치는 영향을 교란시키지 않는 다는 것을 받아들인다면, 우리는 출생 분기를 도구변수로 사용할 수 있습니다. 다시 말해, 우리는 출생 분기가 교육에 미치는 영향 외에는 임금에 영향을 미치지 않는다고 생각해야 합니다. 이거 꽤 설득력 있지 않나요?"
   ]
  },
  {
   "cell_type": "code",
   "execution_count": null,
   "id": "59c39442",
   "metadata": {},
   "outputs": [],
   "source": [
    "g = gr.Digraph()\n",
    "\n",
    "g.edge(\"ability\", \"educ\")\n",
    "g.edge(\"ability\", \"wage\")\n",
    "g.edge(\"educ\", \"wage\")\n",
    "g.edge(\"qob\", \"educ\")\n",
    "g"
   ]
  },
  {
   "cell_type": "markdown",
   "id": "4552ec2b",
   "metadata": {},
   "source": [
    "이 분석을 위해 우리는 10년마다 실시되는 인구조사의 데이터를 사용할 수 있는데요. 이는 도구변수(IV)에 대한 눈문에서  [Angrist and Krueger](https://economics.mit.edu/faculty/angrist/data1/data/angkru1991)가 사용한 것과 같은 데이터입니다. 이 데이터 셋에는 임금에 대한 로그값, 결과 변수, 처치 변수인 교육 기간에 대한 정보가 있습니다. 또한 출생 분기, 장비 및 출생 연도 및 출생 상태와 같은 추가 컨트롤 변수에 대한 데이터도 있습니다."
   ]
  },
  {
   "cell_type": "code",
   "execution_count": null,
   "id": "4c47e4ea",
   "metadata": {},
   "outputs": [],
   "source": [
    "data = pd.read_csv(\"./data/ak91.csv\")\n",
    "data.head()"
   ]
  },
  {
   "cell_type": "markdown",
   "id": "a0dcd86f",
   "metadata": {},
   "source": [
    "### The 1st Stage\n",
    "\n",
    "출생 분기를 도구변수로 활용하기 전에 우리는 유효성에 대해 먼저 검증할 필요가 있습니다. 아래와 같은 두 가지 도구변수 가정을 충족해야 하는데요.\n",
    "\n",
    "1. $Cov(Z, T) \\neq 0$ 도구변수가 실제로 처치변수에 영향을 미친다는 첫번째 단계를 충족해야합니다.\n",
    "2. $Y \\perp Z | T$ Exclusion Restriction(제외 제한): 도구변수 Z가 처치 T를 통해서만 결과 Y에 영향을 준다는 가정 또한 충족해야 합니다.\n",
    "\n",
    "첫번째 가정은 천만 다행으로 검증이 가능합니다. 우리는 데이터를 통해 $Cov(Z, T)$dl 0이 아님을 확인할 수 있습니다. 우리의 예시에서, 만약 출생 분기가 정말로 도구변수로 기능하려면, 우리는 올해 4분기에 태어난 사람들이 1분기에 태어난 사람들보다 약간 더 많은 교육 시간을 받았다는 것을 확인해야 합니다. 이를 위해 통계 검정 전에 데이터를 시각화해서 직접 확인해볼까요?"
   ]
  },
  {
   "cell_type": "code",
   "execution_count": null,
   "id": "5b2fab6d",
   "metadata": {},
   "outputs": [],
   "source": [
    "group_data = (data\n",
    "              .groupby([\"year_of_birth\", \"quarter_of_birth\"])\n",
    "              [[\"log_wage\", \"years_of_schooling\"]]\n",
    "              .mean()\n",
    "              .reset_index()\n",
    "              .assign(time_of_birth = lambda d: d[\"year_of_birth\"] + (d[\"quarter_of_birth\"])/4))"
   ]
  },
  {
   "cell_type": "code",
   "execution_count": null,
   "id": "c73cc5ba",
   "metadata": {},
   "outputs": [],
   "source": [
    "plt.figure(figsize=(15,6))\n",
    "plt.plot(group_data[\"time_of_birth\"], group_data[\"years_of_schooling\"], zorder=-1)\n",
    "for q in range(1, 5):\n",
    "    x = group_data.query(f\"quarter_of_birth=={q}\")[\"time_of_birth\"]\n",
    "    y = group_data.query(f\"quarter_of_birth=={q}\")[\"years_of_schooling\"]\n",
    "    plt.scatter(x, y, marker=\"s\", s=200, c=f\"C{q}\")\n",
    "    plt.scatter(x, y, marker=f\"${q}$\", s=100, c=f\"white\")\n",
    "\n",
    "plt.title(\"Years of Education by Quarter of Birth (first stage)\")\n",
    "plt.xlabel(\"Year of Birth\")\n",
    "plt.ylabel(\"Years of Schooling\");"
   ]
  },
  {
   "cell_type": "markdown",
   "id": "e533c134",
   "metadata": {},
   "source": [
    "놀랍게도, 분기마다 이어지는 학교 교육에는 계절성(Seasonality)이 있네요. 시각적으로, 우리는 1분기에 태어난 사람들이 4분기에 태어난 사람들보다 거의 항상 더 적은 교육을 받는다는 것을 알 수 있습니다. (우리가 일단 출생 연도를 통제하면 일반적으로 마지막 분기에 태어난 사람들은 더 많은 교육을 받습니다.)\n",
    "\n",
    "좀 더 엄격하게 말하자면, 우리는 이런 1단계를 선형 회귀로 실행할 수 있습니다. 먼저 출생 분기를 더미 변수로 변환해볼까요?"
   ]
  },
  {
   "cell_type": "code",
   "execution_count": null,
   "id": "5c95ec9e",
   "metadata": {},
   "outputs": [],
   "source": [
    "factor_data = data.assign(**{f\"q{int(q)}\": (data[\"quarter_of_birth\"] == q).astype(int)\n",
    "                             for q in data[\"quarter_of_birth\"].unique()})\n",
    "\n",
    "factor_data.head()"
   ]
  },
  {
   "cell_type": "markdown",
   "id": "872c907e",
   "metadata": {},
   "source": [
    "문제를 단순하게 하기 위해, 현재 도구변수로는 4분기만 활용해 봅시다. 이제 수년간의 학교 교육, 처치, 출생 분기에 해당하는 도구변수의 회귀를 실행해볼까요? 이는 우리가 위에서 본 것처럼 실제로 출생 분기가 교육 시간에 긍정적으로 영향을 미치는지를 보여줄 것입니다. 우리는 여기서 출생 연도 또한 통제할 필요가 있기 때문에 추가 통제적 조치로 출생 상태를 추가할 것입니다."
   ]
  },
  {
   "cell_type": "code",
   "execution_count": null,
   "id": "d5f77987",
   "metadata": {},
   "outputs": [],
   "source": [
    "first_stage = smf.ols(\"years_of_schooling ~ C(year_of_birth) + C(state_of_birth) + q4\", data=factor_data).fit()\n",
    "\n",
    "print(\"q4 parameter estimate:, \", first_stage.params[\"q4\"])\n",
    "print(\"q4 p-value:, \", first_stage.pvalues[\"q4\"])"
   ]
  },
  {
   "cell_type": "markdown",
   "id": "ae3d8497",
   "metadata": {},
   "source": [
    "한 해의 4분기에 태어난 사람들은 다른 분기에 태어난 사람들보다 평균적으로 0.1년 더 많은 교육을 받은 것으로 보이네요. p-value가 0에 가깝습니다. 이것으로 출생 분기가 학교 교육 시간에 실제로 영향을 주는지에 대한 사례를 마무리 지어볼까요?\n",
    "\n",
    "![incomplete-files](./data/img/iv/incomplete-files.png)"
   ]
  },
  {
   "cell_type": "markdown",
   "id": "1de8285c",
   "metadata": {},
   "source": [
    "## The Reduced Form\n",
    "\n",
    "안타깝게도 두 번째 도구변수 가정은 확인할 수 없습니다. 우리는 찬성하는 주장만 할 수 있지요. 우리는 출생 분기가 잠재적인 수입에 영향을 미치지 않는다고 표현할 수는 있죠. 다시 말해서, 사람들이 태어나는 시간은 교육에 미치는 영향 외에, 그들의 개인적인 능력이나 수입에 차이를 일으킬 수 있는 요소가 아니라는 것이죠. 출생 분기가 수입에 미치는 영향이 무작위로 할당된 것과 같다는 것입니다. (엄밀히 말하면 완전 랜덤은 아닙니다. 여름이 끝날 무렵이나 어떤 종류의 휴일 즈음에 임신하는 경향이 있다는 자료가 있긴 합니다. 하지만 저는 이 경향이 교육을 통해서가 아닌, 다른 방법으로도 소득에 영향을 미친다는 긍적적인 이유를 생각하기 어렵네요.)\n",
    "\n",
    "두번째 가정인 Exclusion Restriction에 찬성하는 주장을 펼쳤으므로 좀 더 간소하게 진행해볼까요? 요약된 방식은 도구변수가 결과에 어떤 영향을 미치는지 파악하는 것을 목표로 합니다. 이 모든 것들은 처치에 미치는 영향 때문이라고 가정하기 때문에, 처치(T)가 결과(Y)에 어떻게 영향을 미치는지 알 수 있습니다. 다시 한 번, 회귀 분석을 진행하기 전에 시각적으로 이것을 평가해볼까요?"
   ]
  },
  {
   "cell_type": "code",
   "execution_count": null,
   "id": "82b79a93",
   "metadata": {},
   "outputs": [],
   "source": [
    "plt.figure(figsize=(15,6))\n",
    "plt.plot(group_data[\"time_of_birth\"], group_data[\"log_wage\"], zorder=-1)\n",
    "for q in range(1, 5):\n",
    "    x = group_data.query(f\"quarter_of_birth=={q}\")[\"time_of_birth\"]\n",
    "    y = group_data.query(f\"quarter_of_birth=={q}\")[\"log_wage\"]\n",
    "    plt.scatter(x, y, marker=\"s\", s=200, c=f\"C{q}\")\n",
    "    plt.scatter(x, y, marker=f\"${q}$\", s=100, c=f\"white\")\n",
    "\n",
    "plt.title(\"Average Weekly Wage by Quarter of Birth (reduced form)\")\n",
    "plt.xlabel(\"Year of Birth\")\n",
    "plt.ylabel(\"Log Weekly Earnings\");"
   ]
  },
  {
   "cell_type": "markdown",
   "id": "7248800f",
   "metadata": {},
   "source": [
    "다시 한 번, 우리는 출생 분기에 따른 임금에 대한 계절성을 볼 수 있습니다. 연초에 태어난 사람들보다 그 해 늦게 태어난 사람들의 소득이 약간 더 높습니다. 이 가설을 테스트하기 위해 임금 로그 값에 대한 도구변수인 q4를 다시 회귀 분석을 진행할 것입니다. 또한 1단계와 동일한 추가 통제를 진행해봅시다."
   ]
  },
  {
   "cell_type": "code",
   "execution_count": null,
   "id": "72c03a67",
   "metadata": {},
   "outputs": [],
   "source": [
    "reduced_form = smf.ols(\"log_wage ~ C(year_of_birth) + C(state_of_birth) + q4\", data=factor_data).fit()\n",
    "\n",
    "print(\"q4 parameter estimate:, \", reduced_form.params[\"q4\"])\n",
    "print(\"q4 p-value:, \", reduced_form.pvalues[\"q4\"])"
   ]
  },
  {
   "cell_type": "markdown",
   "id": "8bc691f2",
   "metadata": {},
   "source": [
    "또 다시 한번, 우리는 중요한 결과를 얻었네요. 올해 4분기에 태어난 사람들은 평균적으로 임금이 무려 0.8% 더 높네요. 이번에는 p-value값이 이전처럼 0에 수렴하진 않지만, 0.0015로 통계적으로 아주 유의한 수치입니다."
   ]
  },
  {
   "cell_type": "markdown",
   "id": "ad4cf170",
   "metadata": {},
   "source": [
    "## Instrumental Variables by Hand\n",
    "\n"
   ]
  },
  {
   "cell_type": "code",
   "execution_count": null,
   "id": "7a13fd9a",
   "metadata": {},
   "outputs": [],
   "source": []
  }
 ],
 "metadata": {
  "kernelspec": {
   "display_name": "Python 3 (ipykernel)",
   "language": "python",
   "name": "python3"
  },
  "language_info": {
   "codemirror_mode": {
    "name": "ipython",
    "version": 3
   },
   "file_extension": ".py",
   "mimetype": "text/x-python",
   "name": "python",
   "nbconvert_exporter": "python",
   "pygments_lexer": "ipython3",
   "version": "3.8.3"
  }
 },
 "nbformat": 4,
 "nbformat_minor": 5
}
