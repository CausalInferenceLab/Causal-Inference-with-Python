{
 "cells": [
  {
   "cell_type": "markdown",
   "id": "87cc4a91",
   "metadata": {},
   "source": [
    "# 08-Instrumental Variables (도구변수)\n",
    "## Going Around Omitted Variable Bias\n",
    "\n",
    "\n",
    "OVB(Omitted Variable Bias)를 다루는 한 가지 방법은 바로 생략된 변수를 우리의 모델에 추가하는 것입니다. 안타깝게도 생략된 변수에 대한 데이터가 항상 존재하는 것은 아니기 때문에 언제나 가능한 것은 아니죠. 예를 들어, 교육이 임금에 미치는 영향에 대한 모델을 살펴볼까요?\n",
    "\n",
    "\n",
    "$log(hwage)_i = \\beta_0 + \\kappa \\ educ_i + \\pmb{\\beta}Ability_i + u_i$\n",
    "\n",
    "교육($\\kappa$)이 임금($log(hwage)$)에 미치는 인과적 영향을 파악하기 위해선 역량($Ability_i$) 요인을 통제할 필요가 있습니다. 이 요인을 통제하지 않는다면 우리는 아마 작아보일수도 있지만 절대 작지 않은 편향(bias)을 가지게 될 것이고, 결국 역량 변수로 인한 편향은 교란 요인(confounder)이 되어 우리가 가하는 처치라 할 수 있는 교육 변수와 그리고 결과 변수인 수입에도 모두 영향을 주게 될 것입니다."
   ]
  },
  {
   "cell_type": "code",
   "execution_count": null,
   "id": "33167b42",
   "metadata": {},
   "outputs": [],
   "source": [
    "import warnings\n",
    "warnings.filterwarnings('ignore')\n",
    "\n",
    "import pandas as pd\n",
    "import numpy as np\n",
    "from scipy import stats\n",
    "from matplotlib import style\n",
    "import seaborn as sns\n",
    "from matplotlib import pyplot as plt\n",
    "import statsmodels.formula.api as smf\n",
    "import graphviz as gr\n",
    "from linearmodels.iv import IV2SLS\n",
    "\n",
    "%matplotlib inline\n",
    "\n",
    "pd.set_option(\"display.max_columns\", 5)\n",
    "style.use(\"fivethirtyeight\")"
   ]
  },
  {
   "cell_type": "code",
   "execution_count": null,
   "id": "813296cf",
   "metadata": {},
   "outputs": [],
   "source": [
    "g = gr.Digraph()\n",
    "\n",
    "g.edge(\"ability\", \"educ\")\n",
    "g.edge(\"ability\", \"wage\")\n",
    "g.edge(\"educ\", \"wage\")\n",
    "g"
   ]
  },
  {
   "cell_type": "markdown",
   "id": "e1cd6777",
   "metadata": {},
   "source": [
    "위와 같은 상황을 피할 수 있는 한 가지 방법은 교육이 임금에 주는 영향을 측정할 때 일정한 수준의 역량 변수를 통제하는 것입니다. 선형 회귀 모델에 역량 변수를 포함함으로써 "
   ]
  },
  {
   "cell_type": "code",
   "execution_count": null,
   "id": "b8874eb6",
   "metadata": {},
   "outputs": [],
   "source": [
    "g = gr.Digraph()\n",
    "\n",
    "g.edge(\"ability\", \"educ\")\n",
    "g.edge(\"ability\", \"wage\")\n",
    "g.edge(\"educ\", \"wage\")\n",
    "g.edge(\"instrument\", \"educ\")\n",
    "g"
   ]
  }
 ],
 "metadata": {
  "kernelspec": {
   "display_name": "Python 3 (ipykernel)",
   "language": "python",
   "name": "python3"
  },
  "language_info": {
   "codemirror_mode": {
    "name": "ipython",
    "version": 3
   },
   "file_extension": ".py",
   "mimetype": "text/x-python",
   "name": "python",
   "nbconvert_exporter": "python",
   "pygments_lexer": "ipython3",
   "version": "3.8.3"
  }
 },
 "nbformat": 4,
 "nbformat_minor": 5
}
